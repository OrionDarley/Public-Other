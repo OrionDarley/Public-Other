{
 "cells": [
  {
   "cell_type": "markdown",
   "metadata": {},
   "source": [
    "## Minimizing Future Device Failures with Predictive Modeling\n",
    "<p>\n",
    "\n",
    "<font size=\"3\"><b>High-level Summary:</b> </font>\n",
    "<p>\n",
    "<font size=\"2\">Applying machine learning models to an arduous real-world, interdisciplinarity problem: predicting sensor device failures using attributes from related system and sub-system components.  A common thread among solving these types of problems is the popular machine learning algorithm’s ability to detect extremely rare events in a time series of highly noisy and non-normally-distributed data. Less than 0.0001% of the devices in this dataset (124,494 observations) will fail. One way to overcome noisy datasets such as this one is to use a popular method, SMOTE. The SMOTE algorithm generates new synthetic data from the minority class to increase its cardinality. Moreover, not all metrics should be used to demonstrate the performance of models used on imbalanced datasets. For this case study, device information, recorded device measurements (attributes 1-9), and time series are examined separately to determine what information equip the best predictive models. Popular algorithms tested for this case study include Logistic Regression, Ridge Regression, Isolation Forests, Long-Short Term Memory (LSTM), and a Support Vector Classifier (not shown, code provided). Popular literature suggest that using SMOTE for imbalanced datasets can be a reliable approach. Moreover, a random split was used for this study as apposed as a traditional time series training and holdout datasets. It is recommended to use a time series sampling strategy (plotted failures over time suggest there is a time series trend to device functionality), however it was not examined in this study.\n",
    "<p>\n",
    "The following modeling techniques were used with and without SMOTE in this case study:\n",
    "<p>\n",
    "    <li>Logistic Regression Modeling (with SMOTE) using device attributes</li>\n",
    "    <li>Logistic Regression Modeling (without SMOTE) using device attributes</li>\n",
    "    <li>Logistic Regression (with SMOTE) using One-Hot Encodings 'devices'</li>\n",
    "    <li>Ridge Regression with Hyperparameter search (without SMOTE) using One-Hot Encodings 'devices'</li>\n",
    "    <li>Ridge Regression with Hyperparameter search (with SMOTE) using One-Hot Encodings 'devices'</li>\n",
    "    <li>Ridge Regression (without Hyperparameter search) (with SMOTE) using One-Hot Encodings 'devices'</li>\n",
    "    <li>Isolation Forests using device attributes</li>\n",
    "    <li>Tensorflow Autoencoder using an LSTM architecture</li>\n",
    "    <li>Support Vector Classifier (code provided, output not shown due to computational ineffencies)</li></font>"
   ]
  },
  {
   "cell_type": "code",
   "execution_count": 5,
   "metadata": {},
   "outputs": [],
   "source": [
    "import pandas as pd\n",
    "import numpy as np\n",
    "from datetime import datetime\n",
    "\n",
    "from imblearn.over_sampling import SMOTE\n",
    "\n",
    "from sklearn.preprocessing import StandardScaler\n",
    "from sklearn.model_selection import train_test_split, GridSearchCV, learning_curve\n",
    "from sklearn import metrics\n",
    "from sklearn.metrics import confusion_matrix, accuracy_score\n",
    "from sklearn.metrics import classification_report, auc, roc_curve\n",
    "from sklearn.metrics import f1_score\n",
    "\n",
    "from sklearn.svm import SVC  \n",
    "from sklearn.linear_model import LogisticRegressionCV, RidgeClassifier\n",
    "\n",
    "import h2o\n",
    "from h2o.estimators import H2OIsolationForestEstimator\n",
    "\n",
    "import tensorflow as tf\n",
    "from keras import optimizers, Sequential\n",
    "from keras.models import Model\n",
    "from keras.utils import plot_model\n",
    "from keras.layers import Dense, LSTM, RepeatVector, TimeDistributed\n",
    "from keras.callbacks import ModelCheckpoint, TensorBoard\n",
    "\n",
    "%matplotlib inline\n",
    "import matplotlib.pyplot as plt\n",
    "import seaborn as sns\n",
    "\n",
    "import itertools\n",
    "from pylab import rcParams\n",
    "\n",
    "from tensorflow import set_random_seed\n",
    "set_random_seed(123)\n",
    "rcParams['figure.figsize'] = 8, 6"
   ]
  },
  {
   "cell_type": "code",
   "execution_count": 6,
   "metadata": {},
   "outputs": [],
   "source": [
    "#The Confusion Matrix (and F1-Score) will be the main model evaluator(s) for predicting on this imbalanced dataset\n",
    "\n",
    "def plot_confusion_matrix(cm, classes,\n",
    "                          normalize=False,\n",
    "                          title='Confusion matrix',\n",
    "                          cmap=plt.cm.Blues):\n",
    "    \"\"\"\n",
    "    This function prints and plots the confusion matrix.\n",
    "    Normalization can be applied by setting `normalize=True`.\n",
    "    \"\"\"\n",
    "    plt.imshow(cm, interpolation='nearest', cmap=cmap)\n",
    "    plt.title(title)\n",
    "    plt.colorbar()\n",
    "    tick_marks = np.arange(len(classes))\n",
    "    plt.xticks(tick_marks, classes, rotation=0)\n",
    "    plt.yticks(tick_marks, classes)\n",
    "\n",
    "    if normalize:\n",
    "        cm = cm.astype('float') / cm.sum(axis=1)[:, np.newaxis]\n",
    "    else:\n",
    "        1\n",
    "\n",
    "    thresh = cm.max() / 2.\n",
    "    for i, j in itertools.product(range(cm.shape[0]), range(cm.shape[1])):\n",
    "        plt.text(j, i, cm[i, j],\n",
    "                 horizontalalignment=\"center\",\n",
    "                 color=\"white\" if cm[i, j] > thresh else \"black\")\n",
    "\n",
    "    plt.tight_layout()\n",
    "    plt.ylabel('True label')\n",
    "    plt.xlabel('Predicted label')\n",
    "\n",
    "#Source: https://scikit-learn.org/stable/auto_examples/model_selection/plot_confusion_matrix.html"
   ]
  },
  {
   "cell_type": "markdown",
   "metadata": {},
   "source": [
    "## Data Preparation"
   ]
  },
  {
   "cell_type": "code",
   "execution_count": 7,
   "metadata": {},
   "outputs": [],
   "source": [
    "#Import Dataset\n",
    "url = \"http://aws-proserve-data-science.s3.amazonaws.com/device_failure.csv\"\n",
    "df = pd.read_csv(url, encoding = \"ISO-8859-1\")\n",
    "\n",
    "#Sort dataset by date and device\n",
    "df = df.sort_values(by = ['date', 'device'], ascending = True) #Sort by date and device"
   ]
  },
  {
   "cell_type": "code",
   "execution_count": 8,
   "metadata": {},
   "outputs": [
    {
     "name": "stdout",
     "output_type": "stream",
     "text": [
      "DataFrame attribute classes are: date          object\n",
      "device        object\n",
      "failure        int64\n",
      "attribute1     int64\n",
      "attribute2     int64\n",
      "attribute3     int64\n",
      "attribute4     int64\n",
      "attribute5     int64\n",
      "attribute6     int64\n",
      "attribute7     int64\n",
      "attribute8     int64\n",
      "attribute9     int64\n",
      "dtype: object.\n",
      " \n",
      "DataFrame dimensions are: (124494, 12).\n",
      " \n",
      "There are date          0\n",
      "device        0\n",
      "failure       0\n",
      "attribute1    0\n",
      "attribute2    0\n",
      "attribute3    0\n",
      "attribute4    0\n",
      "attribute5    0\n",
      "attribute6    0\n",
      "attribute7    0\n",
      "attribute8    0\n",
      "attribute9    0\n",
      "dtype: int64 missing values.\n",
      " \n",
      "There is 1 duplicate value.\n"
     ]
    }
   ],
   "source": [
    "print(\"DataFrame attribute classes are: {}.\".format(df.dtypes)) \n",
    "print(\" \")\n",
    "print(\"DataFrame dimensions are: {}.\".format(df.shape))\n",
    "print(\" \")\n",
    "mis = df.isnull().sum()\n",
    "print(\"There are {} missing values.\".format(mis))\n",
    "print(\" \")\n",
    "print(\"There is {} duplicate value.\".format(df.duplicated().sum())) #One duplicated row"
   ]
  },
  {
   "cell_type": "code",
   "execution_count": 9,
   "metadata": {},
   "outputs": [],
   "source": [
    "#Further Data Prep\n",
    "\n",
    "#Format Date to datetime object\n",
    "df['date'] = pd.to_datetime(df['date'],format='%Y/%m/%d') #format date to datetime\n",
    "\n",
    "#Create Month and Day Columns\n",
    "df['month'] = pd.DatetimeIndex(df['date']).month\n",
    "df['day'] = pd.DatetimeIndex(df['date']).day\n",
    "\n",
    "#Create date_delta\n",
    "df['date_delta'] = abs(df['date'] - datetime(2015, 11, 2)) #Subtract date from last date\n",
    "df['date_delta'] = pd.to_numeric(df.date_delta, errors='coerce')"
   ]
  },
  {
   "cell_type": "markdown",
   "metadata": {},
   "source": [
    "## EDA"
   ]
  },
  {
   "cell_type": "code",
   "execution_count": 10,
   "metadata": {
    "scrolled": true
   },
   "outputs": [
    {
     "name": "stdout",
     "output_type": "stream",
     "text": [
      "             failure    attribute1     attribute2     attribute3  \\\n",
      "count  124494.000000  1.244940e+05  124494.000000  124494.000000   \n",
      "mean        0.000851  1.223881e+08     159.484762       9.940455   \n",
      "std         0.029167  7.045933e+07    2179.657730     185.747321   \n",
      "min         0.000000  0.000000e+00       0.000000       0.000000   \n",
      "25%         0.000000  6.128476e+07       0.000000       0.000000   \n",
      "50%         0.000000  1.227974e+08       0.000000       0.000000   \n",
      "75%         0.000000  1.833096e+08       0.000000       0.000000   \n",
      "max         1.000000  2.441405e+08   64968.000000   24929.000000   \n",
      "\n",
      "          attribute4     attribute5     attribute6     attribute7  \\\n",
      "count  124494.000000  124494.000000  124494.000000  124494.000000   \n",
      "mean        1.741120      14.222669  260172.657726       0.292528   \n",
      "std        22.908507      15.943028   99151.078547       7.436924   \n",
      "min         0.000000       1.000000       8.000000       0.000000   \n",
      "25%         0.000000       8.000000  221452.000000       0.000000   \n",
      "50%         0.000000      10.000000  249799.500000       0.000000   \n",
      "75%         0.000000      12.000000  310266.000000       0.000000   \n",
      "max      1666.000000      98.000000  689161.000000     832.000000   \n",
      "\n",
      "          attribute8     attribute9          month            day  \\\n",
      "count  124494.000000  124494.000000  124494.000000  124494.000000   \n",
      "mean        0.292528      12.451524       4.028299      14.894196   \n",
      "std         7.436924     191.425623       2.572167       8.759542   \n",
      "min         0.000000       0.000000       1.000000       1.000000   \n",
      "25%         0.000000       0.000000       2.000000       7.000000   \n",
      "50%         0.000000       0.000000       3.000000      15.000000   \n",
      "75%         0.000000       0.000000       6.000000      22.000000   \n",
      "max       832.000000   18701.000000      11.000000      31.000000   \n",
      "\n",
      "         date_delta  \n",
      "count  1.244940e+05  \n",
      "mean   1.726075e+16  \n",
      "std    6.774802e+15  \n",
      "min    0.000000e+00  \n",
      "25%    1.192320e+16  \n",
      "50%    1.900800e+16  \n",
      "75%    2.298240e+16  \n",
      "max    2.635200e+16  \n",
      "             failure  attribute1  attribute2  attribute3  attribute4  \\\n",
      "failure     1.000000    0.001983    0.052902   -0.000948    0.067398   \n",
      "attribute1  0.001983    1.000000   -0.004250    0.003701    0.001836   \n",
      "attribute2  0.052902   -0.004250    1.000000   -0.002617    0.146593   \n",
      "attribute3 -0.000948    0.003701   -0.002617    1.000000    0.097452   \n",
      "attribute4  0.067398    0.001836    0.146593    0.097452    1.000000   \n",
      "attribute5  0.002270   -0.003376   -0.013999   -0.006696   -0.009773   \n",
      "attribute6 -0.000550   -0.001522   -0.026350    0.009027    0.024870   \n",
      "attribute7  0.119055    0.000151    0.141367   -0.001884    0.045631   \n",
      "attribute8  0.119055    0.000151    0.141367   -0.001884    0.045631   \n",
      "attribute9  0.001622    0.001121   -0.002736    0.532366    0.036069   \n",
      "month       0.000321   -0.005590   -0.006416   -0.001101   -0.005490   \n",
      "day         0.002994   -0.000249   -0.010000   -0.004232   -0.008383   \n",
      "date_delta -0.000627    0.005582    0.007317    0.001580    0.006484   \n",
      "\n",
      "            attribute5  attribute6  attribute7  attribute8  attribute9  \\\n",
      "failure       0.002270   -0.000550    0.119055    0.119055    0.001622   \n",
      "attribute1   -0.003376   -0.001522    0.000151    0.000151    0.001121   \n",
      "attribute2   -0.013999   -0.026350    0.141367    0.141367   -0.002736   \n",
      "attribute3   -0.006696    0.009027   -0.001884   -0.001884    0.532366   \n",
      "attribute4   -0.009773    0.024870    0.045631    0.045631    0.036069   \n",
      "attribute5    1.000000   -0.017049   -0.009384   -0.009384    0.005949   \n",
      "attribute6   -0.017049    1.000000   -0.012207   -0.012207    0.021152   \n",
      "attribute7   -0.009384   -0.012207    1.000000    1.000000    0.006861   \n",
      "attribute8   -0.009384   -0.012207    1.000000    1.000000    0.006861   \n",
      "attribute9    0.005949    0.021152    0.006861    0.006861    1.000000   \n",
      "month        -0.014131    0.138157    0.020576    0.020576   -0.025383   \n",
      "day           0.009527    0.019485    0.009194    0.009194   -0.012316   \n",
      "date_delta    0.013456   -0.139641   -0.021653   -0.021653    0.026538   \n",
      "\n",
      "               month       day  date_delta  \n",
      "failure     0.000321  0.002994   -0.000627  \n",
      "attribute1 -0.005590 -0.000249    0.005582  \n",
      "attribute2 -0.006416 -0.010000    0.007317  \n",
      "attribute3 -0.001101 -0.004232    0.001580  \n",
      "attribute4 -0.005490 -0.008383    0.006484  \n",
      "attribute5 -0.014131  0.009527    0.013456  \n",
      "attribute6  0.138157  0.019485   -0.139641  \n",
      "attribute7  0.020576  0.009194   -0.021653  \n",
      "attribute8  0.020576  0.009194   -0.021653  \n",
      "attribute9 -0.025383 -0.012316    0.026538  \n",
      "month       1.000000  0.008209   -0.993747  \n",
      "day         0.008209  1.000000   -0.119381  \n",
      "date_delta -0.993747 -0.119381    1.000000  \n"
     ]
    }
   ],
   "source": [
    "# Attribute 1, 5, and 6 could contain readings from devices, where as the remainder are zero-inflated.\n",
    "# The zero-inflated attributes could contain some type of measurement codes\n",
    "print(df.describe())\n",
    "print(df.corr())"
   ]
  },
  {
   "cell_type": "code",
   "execution_count": 11,
   "metadata": {
    "collapsed": true
   },
   "outputs": [
    {
     "data": {
      "image/png": "[encoded data removed]",
      "text/plain": [
       "<matplotlib.figure.Figure at 0x7f673812d400>"
      ]
     },
     "metadata": {},
     "output_type": "display_data"
    }
   ],
   "source": [
    "#Attribute 7 and attribute 8 are identical. Drop one for redundancy purposes. \n",
    "df.plot(x='attribute7', y='attribute8', figsize=(10,5), grid=True)\n",
    "df = df.drop(['attribute8'], axis = 1)"
   ]
  },
  {
   "cell_type": "code",
   "execution_count": 12,
   "metadata": {},
   "outputs": [
    {
     "name": "stdout",
     "output_type": "stream",
     "text": [
      "col_0     count\n",
      "failure        \n",
      "0        124388\n",
      "1           106\n",
      "\n",
      "col_0       count\n",
      "date             \n",
      "2015-01-01   1163\n",
      "2015-01-02   1163\n",
      "2015-01-03   1163\n",
      "2015-01-04   1162\n",
      "2015-01-05   1161\n",
      "2015-01-06   1054\n",
      "2015-01-07    798\n",
      "2015-01-08    756\n",
      "2015-01-09    756\n",
      "2015-01-10    755\n",
      "2015-01-11    755\n",
      "2015-01-12    755\n",
      "2015-01-13    755\n",
      "2015-01-14    716\n",
      "2015-01-15    715\n",
      "2015-01-16    715\n",
      "2015-01-17    715\n",
      "2015-01-18    714\n",
      "2015-01-19    713\n",
      "2015-01-20    713\n",
      "2015-01-21    712\n",
      "2015-01-22    712\n",
      "2015-01-23    712\n",
      "2015-01-24    712\n",
      "2015-01-25    712\n",
      "2015-01-26    712\n",
      "2015-01-27    712\n",
      "2015-01-28    712\n",
      "2015-01-29    715\n",
      "2015-01-30    712\n",
      "...           ...\n",
      "2015-10-02    146\n",
      "2015-10-03    146\n",
      "2015-10-04    146\n",
      "2015-10-05    146\n",
      "2015-10-06    141\n",
      "2015-10-07    141\n",
      "2015-10-08    141\n",
      "2015-10-09    141\n",
      "2015-10-10    140\n",
      "2015-10-11    140\n",
      "2015-10-12    140\n",
      "2015-10-13    111\n",
      "2015-10-14    111\n",
      "2015-10-15    109\n",
      "2015-10-16    109\n",
      "2015-10-17    109\n",
      "2015-10-18    109\n",
      "2015-10-19    109\n",
      "2015-10-20     69\n",
      "2015-10-21     69\n",
      "2015-10-22     69\n",
      "2015-10-23     32\n",
      "2015-10-24     32\n",
      "2015-10-25     32\n",
      "2015-10-26     32\n",
      "2015-10-27     31\n",
      "2015-10-29     31\n",
      "2015-10-30     31\n",
      "2015-10-31     31\n",
      "2015-11-02     31\n",
      "\n",
      "[304 rows x 1 columns]\n"
     ]
    }
   ],
   "source": [
    "# Less than 0.001% of the devices in this dataset (124,494 observations) will fail.\n",
    "print(pd.crosstab(index=df[\"failure\"],columns=\"count\"))\n",
    "\n",
    "print(\"\")\n",
    "\n",
    "# The timestamp intervals in this data set for devices ranged from 30 - 1163. \n",
    "# This suggest not all devices record at the same interval. \n",
    "# Predicting failures can require a more consistant timestamp interval of recorded measurements. \n",
    "print(pd.crosstab(index=df[\"date\"],columns=\"count\"))"
   ]
  },
  {
   "cell_type": "code",
   "execution_count": 13,
   "metadata": {},
   "outputs": [],
   "source": [
    "#Find and sort devices, count by date aggregate by device.\n",
    "date_tot = pd.DataFrame(df.groupby('device')['date'].count())\n",
    "date_tot = date_tot.sort_values(by = ['date'], ascending = True) #Sort by date count\n",
    "date_tot.reset_index(level=0, inplace=True)\n",
    "date_tot = date_tot.rename(columns = {'date': 'date_total'})\n",
    "date_tot\n",
    "\n",
    "#Merge date totals with df\n",
    "#Possible predictive information in date counts\n",
    "df = df.merge(date_tot, left_on='device', right_on='device')\n",
    "#print(df.head())"
   ]
  },
  {
   "cell_type": "code",
   "execution_count": 14,
   "metadata": {},
   "outputs": [],
   "source": [
    "#Find and sort devices, count by date aggregate by device.\n",
    "fail_tot = pd.DataFrame(df.groupby('date')['failure'].count())\n",
    "fail_tot = fail_tot.sort_values(by = ['failure'], ascending = True) #Sort by date count\n",
    "fail_tot.reset_index(level=0, inplace=True)\n",
    "fail_tot = fail_tot.rename(columns = {'failure': 'failure_total'})\n",
    "\n",
    "#Merge failure totals with df\n",
    "#Possible predictive information in date counts\n",
    "df = df.merge(fail_tot, left_on='date', right_on='date')\n",
    "#print(df.head())"
   ]
  },
  {
   "cell_type": "code",
   "execution_count": 15,
   "metadata": {},
   "outputs": [
    {
     "name": "stdout",
     "output_type": "stream",
     "text": [
      "False = failure <= 1. True = failure > 1.\n"
     ]
    },
    {
     "data": {
      "text/plain": [
       "False"
      ]
     },
     "execution_count": 15,
     "metadata": {},
     "output_type": "execute_result"
    }
   ],
   "source": [
    "#Devices do not fail twice.\n",
    "print(\"False = failure <= 1. True = failure > 1.\")\n",
    "df.groupby(['device'])['failure'].sum().gt(1).any()"
   ]
  },
  {
   "cell_type": "code",
   "execution_count": 16,
   "metadata": {},
   "outputs": [
    {
     "data": {
      "text/plain": [
       "<matplotlib.axes._subplots.AxesSubplot at 0x7f67380d3240>"
      ]
     },
     "execution_count": 16,
     "metadata": {},
     "output_type": "execute_result"
    },
    {
     "data": {
      "image/png": "[encoded data removed]",
      "text/plain": [
       "<matplotlib.figure.Figure at 0x7f6738b050f0>"
      ]
     },
     "metadata": {},
     "output_type": "display_data"
    }
   ],
   "source": [
    "#Failures over time\n",
    "fail_timeline = df.groupby('date').failure.sum() / df.groupby('date').failure.count()\n",
    "fail_timeline.plot(figsize=(10,5), grid=True)"
   ]
  },
  {
   "cell_type": "code",
   "execution_count": 17,
   "metadata": {},
   "outputs": [
    {
     "data": {
      "text/plain": [
       "<matplotlib.axes._subplots.AxesSubplot at 0x7f6738081f60>"
      ]
     },
     "execution_count": 17,
     "metadata": {},
     "output_type": "execute_result"
    },
    {
     "data": {
      "image/png": "[encoded data removed]",
      "text/plain": [
       "<matplotlib.figure.Figure at 0x7f67380d3208>"
      ]
     },
     "metadata": {},
     "output_type": "display_data"
    }
   ],
   "source": [
    "fail_tot.plot(y='failure_total', x='date', figsize=(10,5), grid=True)"
   ]
  },
  {
   "cell_type": "code",
   "execution_count": 18,
   "metadata": {},
   "outputs": [],
   "source": [
    "#Create dummy matrix for devices in-case the time component (variable date_delta, month, or day) is too strong\n",
    "df2 = pd.concat([df, pd.get_dummies(df['device'])], axis=1)\n",
    "df2 = df2.drop(['device'], axis = 1)"
   ]
  },
  {
   "cell_type": "markdown",
   "metadata": {},
   "source": [
    "## Divide the data into train and test"
   ]
  },
  {
   "cell_type": "code",
   "execution_count": 19,
   "metadata": {},
   "outputs": [
    {
     "name": "stdout",
     "output_type": "stream",
     "text": [
      "The dimensions of the X and y training datasets:\n",
      "(99595, 9) (99595,)\n",
      " \n",
      "The dimensions of the X and y test datasets:\n",
      "(24899, 9) (24899,)\n"
     ]
    }
   ],
   "source": [
    "# Separate input features (X) and target variable (y)\n",
    "y = df.failure\n",
    "X = df.drop(['failure', 'device', 'date', 'failure_total', 'date_total', 'month', 'day'], axis=1)\n",
    "\n",
    "X_train, X_test, y_train, y_test = train_test_split(X, y, test_size = 0.20, random_state = 1234) \n",
    "print(\"The dimensions of the X and y training datasets:\")\n",
    "print(X_train.shape, y_train.shape)\n",
    "print(\" \")\n",
    "print(\"The dimensions of the X and y test datasets:\")\n",
    "print(X_test.shape, y_test.shape)"
   ]
  },
  {
   "cell_type": "code",
   "execution_count": 20,
   "metadata": {},
   "outputs": [
    {
     "name": "stdout",
     "output_type": "stream",
     "text": [
      "The dimensions of the X and y SMOTE training datasets:\n",
      "(199014, 9) (199014,)\n"
     ]
    }
   ],
   "source": [
    "m1_smote = SMOTE(ratio=1.0, random_state=1234)\n",
    "X_train_smote, y_train_smote = m1_smote.fit_sample(X_train, y_train)\n",
    "\n",
    "print(\"The dimensions of the X and y SMOTE training datasets:\")\n",
    "print(X_train_smote.shape, y_train_smote.shape)"
   ]
  },
  {
   "cell_type": "markdown",
   "metadata": {},
   "source": [
    "## Modeling"
   ]
  },
  {
   "cell_type": "markdown",
   "metadata": {},
   "source": [
    "<font size=\"3\"><b>Logistic Regression Modeling with SMOTE<b></font>"
   ]
  },
  {
   "cell_type": "code",
   "execution_count": 21,
   "metadata": {},
   "outputs": [
    {
     "name": "stdout",
     "output_type": "stream",
     "text": [
      "The main metrics are not purposeful for model eval, but look to the confusion matrix\n",
      "              precision    recall  f1-score   support\n",
      "\n",
      "           0       1.00      1.00      1.00     24881\n",
      "           1       0.00      0.00      0.00        18\n",
      "\n",
      "    accuracy                           1.00     24899\n",
      "   macro avg       0.50      0.50      0.50     24899\n",
      "weighted avg       1.00      1.00      1.00     24899\n",
      "\n"
     ]
    },
    {
     "data": {
      "image/png": "[encoded data removed]",
      "text/plain": [
       "<matplotlib.figure.Figure at 0x7f67325e1c18>"
      ]
     },
     "metadata": {},
     "output_type": "display_data"
    },
    {
     "name": "stdout",
     "output_type": "stream",
     "text": [
      "['attribute1', 'attribute2', 'attribute3', 'attribute4', 'attribute5', 'attribute6', 'attribute7', 'attribute9', 'date_delta']\n",
      "[[ 4.35560356e-26  3.54897268e-29 -6.73079050e-32  5.26164162e-31\n",
      "   1.14380656e-32  8.67419528e-29  2.60599008e-31  1.35324830e-31\n",
      "  -1.03763826e-18]]\n"
     ]
    }
   ],
   "source": [
    "m1 = LogisticRegressionCV(cv = 5)\n",
    "m1.fit(X_train_smote, y_train_smote)\n",
    "pred_m1 = m1.predict(X_test)\n",
    "\n",
    "print(\"The main metrics are not purposeful for model eval, but look to the confusion matrix\")\n",
    "print(metrics.classification_report(y_test, pred_m1))\n",
    "\n",
    "m1_cm = confusion_matrix(y_test, pred_m1)\n",
    "plt.figure()\n",
    "plot_confusion_matrix(m1_cm, title ='Test Confusion matrix', classes = [\"non-failure\",\"failure\"])\n",
    "plt.show()\n",
    "print(list(X_train.columns))\n",
    "print(m1.coef_)"
   ]
  },
  {
   "cell_type": "markdown",
   "metadata": {},
   "source": [
    "<font size=\"3\"><b>Logistic Regression Modeling (without SMOTE)</b></font>"
   ]
  },
  {
   "cell_type": "code",
   "execution_count": 22,
   "metadata": {},
   "outputs": [
    {
     "name": "stdout",
     "output_type": "stream",
     "text": [
      "The main metric are not purposeful for model eval, but look to the confusion matrix\n",
      "              precision    recall  f1-score   support\n",
      "\n",
      "           0       1.00      1.00      1.00     24881\n",
      "           1       0.00      0.00      0.00        18\n",
      "\n",
      "    accuracy                           1.00     24899\n",
      "   macro avg       0.50      0.50      0.50     24899\n",
      "weighted avg       1.00      1.00      1.00     24899\n",
      "\n"
     ]
    },
    {
     "name": "stderr",
     "output_type": "stream",
     "text": [
      "/usr/local/lib/python3.5/dist-packages/sklearn/metrics/classification.py:1437: UndefinedMetricWarning: Precision and F-score are ill-defined and being set to 0.0 in labels with no predicted samples.\n",
      "  'precision', 'predicted', average, warn_for)\n"
     ]
    },
    {
     "data": {
      "image/png": "[encoded data removed]",
      "text/plain": [
       "<matplotlib.figure.Figure at 0x7f673252f6a0>"
      ]
     },
     "metadata": {},
     "output_type": "display_data"
    }
   ],
   "source": [
    "m2 = LogisticRegressionCV(cv = 5)\n",
    "m2.fit(X_train, y_train)\n",
    "pred_m2 = m2.predict(X_test)\n",
    "\n",
    "print(\"The main metric are not purposeful for model eval, but look to the confusion matrix\")\n",
    "print(metrics.classification_report(y_test, pred_m2))\n",
    "\n",
    "m2_cm = confusion_matrix(y_test, pred_m2)\n",
    "plt.figure()\n",
    "plot_confusion_matrix(m2_cm, title ='Confusion matrix', classes = [\"non-failure\",\"failure\"])\n",
    "plt.show()"
   ]
  },
  {
   "cell_type": "markdown",
   "metadata": {},
   "source": [
    "## <font size=\"3\"><b>Replacing Time-Based Variables for Devices One Hot Encodings</b></font>"
   ]
  },
  {
   "cell_type": "code",
   "execution_count": 23,
   "metadata": {},
   "outputs": [
    {
     "name": "stdout",
     "output_type": "stream",
     "text": [
      "The dimensions of the second SMOTE X and y training datasets:\n",
      "(199014, 1177) (199014,)\n"
     ]
    }
   ],
   "source": [
    "# Separate input features (X) and target variable (y)\n",
    "y2 = df2.failure\n",
    "X2 = df2.drop(['failure', 'date', 'failure_total', 'date_total', 'month', 'day', 'date_delta'], axis=1)\n",
    "\n",
    "X_train2, X_test2, y_train2, y_test2 = train_test_split(X2, y2, test_size = 0.20, random_state = 1234) \n",
    "\n",
    "m2_smote = SMOTE(ratio=1.0, random_state=1234)\n",
    "X_train_smote2, y_train_smote2 = m2_smote.fit_sample(X_train2, y_train2)\n",
    "\n",
    "print(\"The dimensions of the second SMOTE X and y training datasets:\")\n",
    "print(X_train_smote2.shape, y_train_smote2.shape)"
   ]
  },
  {
   "cell_type": "markdown",
   "metadata": {},
   "source": [
    "<font size=\"3\"><b>Logistic Regression (with SMOTE) using One-Hot Encodings 'devices'</b></font>"
   ]
  },
  {
   "cell_type": "code",
   "execution_count": 24,
   "metadata": {},
   "outputs": [
    {
     "name": "stdout",
     "output_type": "stream",
     "text": [
      "              precision    recall  f1-score   support\n",
      "\n",
      "           0       1.00      0.97      0.98     24881\n",
      "           1       0.01      0.44      0.02        18\n",
      "\n",
      "    accuracy                           0.97     24899\n",
      "   macro avg       0.50      0.71      0.50     24899\n",
      "weighted avg       1.00      0.97      0.98     24899\n",
      "\n",
      "This accuracy measure of 0.9663841921362304 doesn't mean much here, but look to the confusion matrix\n"
     ]
    },
    {
     "data": {
      "image/png": "[encoded data removed]",
      "text/plain": [
       "<matplotlib.figure.Figure at 0x7f673803b1d0>"
      ]
     },
     "metadata": {},
     "output_type": "display_data"
    }
   ],
   "source": [
    "m3 = LogisticRegressionCV(cv = 5)\n",
    "m3.fit(X_train_smote2, y_train_smote2)\n",
    "pred_m3 = m3.predict(X_test2)\n",
    "\n",
    "m3_acc = accuracy_score(y_test2, pred_m3)\n",
    "\n",
    "print(metrics.classification_report(y_test2, pred_m3))\n",
    "print(\"This accuracy measure of {} doesn't mean much here, but look to the confusion matrix\".format(m3_acc))\n",
    "\n",
    "m3_cm = confusion_matrix(y_test2, pred_m3)\n",
    "plt.figure()\n",
    "plot_confusion_matrix(m3_cm, title ='Confusion matrix', classes = [\"non-failure\",\"failure\"])\n",
    "plt.show()"
   ]
  },
  {
   "cell_type": "markdown",
   "metadata": {},
   "source": [
    "## <font size=\"3\"><b>Ridge Regression with Hyperparameter search (without SMOTE) using One-Hot Encodings 'devices'</b></font>"
   ]
  },
  {
   "cell_type": "code",
   "execution_count": 25,
   "metadata": {
    "collapsed": true
   },
   "outputs": [
    {
     "name": "stderr",
     "output_type": "stream",
     "text": [
      "/usr/local/lib/python3.5/dist-packages/scipy/linalg/basic.py:40: RuntimeWarning: scipy.linalg.solve\n",
      "Ill-conditioned matrix detected. Result is not guaranteed to be accurate.\n",
      "Reciprocal condition number/precision: 2.528541408359786e-36 / 1.1102230246251565e-16\n",
      "  RuntimeWarning)\n",
      "/usr/local/lib/python3.5/dist-packages/scipy/linalg/basic.py:40: RuntimeWarning: scipy.linalg.solve\n",
      "Ill-conditioned matrix detected. Result is not guaranteed to be accurate.\n",
      "Reciprocal condition number/precision: 2.5262748094448195e-36 / 1.1102230246251565e-16\n",
      "  RuntimeWarning)\n",
      "/usr/local/lib/python3.5/dist-packages/scipy/linalg/basic.py:40: RuntimeWarning: scipy.linalg.solve\n",
      "Ill-conditioned matrix detected. Result is not guaranteed to be accurate.\n",
      "Reciprocal condition number/precision: 2.5273180296921076e-36 / 1.1102230246251565e-16\n",
      "  RuntimeWarning)\n",
      "/usr/local/lib/python3.5/dist-packages/scipy/linalg/basic.py:40: RuntimeWarning: scipy.linalg.solve\n",
      "Ill-conditioned matrix detected. Result is not guaranteed to be accurate.\n",
      "Reciprocal condition number/precision: 2.532884401763348e-36 / 1.1102230246251565e-16\n",
      "  RuntimeWarning)\n",
      "/usr/local/lib/python3.5/dist-packages/scipy/linalg/basic.py:40: RuntimeWarning: scipy.linalg.solve\n",
      "Ill-conditioned matrix detected. Result is not guaranteed to be accurate.\n",
      "Reciprocal condition number/precision: 2.531625708932936e-36 / 1.1102230246251565e-16\n",
      "  RuntimeWarning)\n",
      "/usr/local/lib/python3.5/dist-packages/scipy/linalg/basic.py:40: RuntimeWarning: scipy.linalg.solve\n",
      "Ill-conditioned matrix detected. Result is not guaranteed to be accurate.\n",
      "Reciprocal condition number/precision: 2.5285414083597866e-31 / 1.1102230246251565e-16\n",
      "  RuntimeWarning)\n",
      "/usr/local/lib/python3.5/dist-packages/scipy/linalg/basic.py:40: RuntimeWarning: scipy.linalg.solve\n",
      "Ill-conditioned matrix detected. Result is not guaranteed to be accurate.\n",
      "Reciprocal condition number/precision: 2.5262748094448202e-31 / 1.1102230246251565e-16\n",
      "  RuntimeWarning)\n",
      "/usr/local/lib/python3.5/dist-packages/scipy/linalg/basic.py:40: RuntimeWarning: scipy.linalg.solve\n",
      "Ill-conditioned matrix detected. Result is not guaranteed to be accurate.\n",
      "Reciprocal condition number/precision: 2.5273180296921084e-31 / 1.1102230246251565e-16\n",
      "  RuntimeWarning)\n",
      "/usr/local/lib/python3.5/dist-packages/scipy/linalg/basic.py:40: RuntimeWarning: scipy.linalg.solve\n",
      "Ill-conditioned matrix detected. Result is not guaranteed to be accurate.\n",
      "Reciprocal condition number/precision: 2.5328844017633487e-31 / 1.1102230246251565e-16\n",
      "  RuntimeWarning)\n",
      "/usr/local/lib/python3.5/dist-packages/scipy/linalg/basic.py:40: RuntimeWarning: scipy.linalg.solve\n",
      "Ill-conditioned matrix detected. Result is not guaranteed to be accurate.\n",
      "Reciprocal condition number/precision: 2.5316257089329366e-31 / 1.1102230246251565e-16\n",
      "  RuntimeWarning)\n",
      "/usr/local/lib/python3.5/dist-packages/scipy/linalg/basic.py:40: RuntimeWarning: scipy.linalg.solve\n",
      "Ill-conditioned matrix detected. Result is not guaranteed to be accurate.\n",
      "Reciprocal condition number/precision: 2.528541408359786e-29 / 1.1102230246251565e-16\n",
      "  RuntimeWarning)\n",
      "/usr/local/lib/python3.5/dist-packages/scipy/linalg/basic.py:40: RuntimeWarning: scipy.linalg.solve\n",
      "Ill-conditioned matrix detected. Result is not guaranteed to be accurate.\n",
      "Reciprocal condition number/precision: 2.5262748094448196e-29 / 1.1102230246251565e-16\n",
      "  RuntimeWarning)\n",
      "/usr/local/lib/python3.5/dist-packages/scipy/linalg/basic.py:40: RuntimeWarning: scipy.linalg.solve\n",
      "Ill-conditioned matrix detected. Result is not guaranteed to be accurate.\n",
      "Reciprocal condition number/precision: 2.527318029692108e-29 / 1.1102230246251565e-16\n",
      "  RuntimeWarning)\n",
      "/usr/local/lib/python3.5/dist-packages/scipy/linalg/basic.py:40: RuntimeWarning: scipy.linalg.solve\n",
      "Ill-conditioned matrix detected. Result is not guaranteed to be accurate.\n",
      "Reciprocal condition number/precision: 2.5328844017633483e-29 / 1.1102230246251565e-16\n",
      "  RuntimeWarning)\n",
      "/usr/local/lib/python3.5/dist-packages/scipy/linalg/basic.py:40: RuntimeWarning: scipy.linalg.solve\n",
      "Ill-conditioned matrix detected. Result is not guaranteed to be accurate.\n",
      "Reciprocal condition number/precision: 2.531625708932936e-29 / 1.1102230246251565e-16\n",
      "  RuntimeWarning)\n",
      "/usr/local/lib/python3.5/dist-packages/scipy/linalg/basic.py:40: RuntimeWarning: scipy.linalg.solve\n",
      "Ill-conditioned matrix detected. Result is not guaranteed to be accurate.\n",
      "Reciprocal condition number/precision: 2.526225425956809e-25 / 1.1102230246251565e-16\n",
      "  RuntimeWarning)\n",
      "/usr/local/lib/python3.5/dist-packages/scipy/linalg/basic.py:40: RuntimeWarning: scipy.linalg.solve\n",
      "Ill-conditioned matrix detected. Result is not guaranteed to be accurate.\n",
      "Reciprocal condition number/precision: 2.5239660594357175e-25 / 1.1102230246251565e-16\n",
      "  RuntimeWarning)\n",
      "/usr/local/lib/python3.5/dist-packages/scipy/linalg/basic.py:40: RuntimeWarning: scipy.linalg.solve\n",
      "Ill-conditioned matrix detected. Result is not guaranteed to be accurate.\n",
      "Reciprocal condition number/precision: 2.524935816844429e-25 / 1.1102230246251565e-16\n",
      "  RuntimeWarning)\n",
      "/usr/local/lib/python3.5/dist-packages/scipy/linalg/basic.py:40: RuntimeWarning: scipy.linalg.solve\n",
      "Ill-conditioned matrix detected. Result is not guaranteed to be accurate.\n",
      "Reciprocal condition number/precision: 2.5306040626974395e-25 / 1.1102230246251565e-16\n",
      "  RuntimeWarning)\n",
      "/usr/local/lib/python3.5/dist-packages/scipy/linalg/basic.py:40: RuntimeWarning: scipy.linalg.solve\n",
      "Ill-conditioned matrix detected. Result is not guaranteed to be accurate.\n",
      "Reciprocal condition number/precision: 2.529311622250164e-25 / 1.1102230246251565e-16\n",
      "  RuntimeWarning)\n",
      "/usr/local/lib/python3.5/dist-packages/scipy/linalg/basic.py:40: RuntimeWarning: scipy.linalg.solve\n",
      "Ill-conditioned matrix detected. Result is not guaranteed to be accurate.\n",
      "Reciprocal condition number/precision: 2.5237597984041235e-24 / 1.1102230246251565e-16\n",
      "  RuntimeWarning)\n",
      "/usr/local/lib/python3.5/dist-packages/scipy/linalg/basic.py:40: RuntimeWarning: scipy.linalg.solve\n",
      "Ill-conditioned matrix detected. Result is not guaranteed to be accurate.\n",
      "Reciprocal condition number/precision: 2.5215254630047685e-24 / 1.1102230246251565e-16\n",
      "  RuntimeWarning)\n",
      "/usr/local/lib/python3.5/dist-packages/scipy/linalg/basic.py:40: RuntimeWarning: scipy.linalg.solve\n",
      "Ill-conditioned matrix detected. Result is not guaranteed to be accurate.\n",
      "Reciprocal condition number/precision: 2.522545550825342e-24 / 1.1102230246251565e-16\n",
      "  RuntimeWarning)\n",
      "/usr/local/lib/python3.5/dist-packages/scipy/linalg/basic.py:40: RuntimeWarning: scipy.linalg.solve\n",
      "Ill-conditioned matrix detected. Result is not guaranteed to be accurate.\n",
      "Reciprocal condition number/precision: 2.528139377105439e-24 / 1.1102230246251565e-16\n",
      "  RuntimeWarning)\n",
      "/usr/local/lib/python3.5/dist-packages/scipy/linalg/basic.py:40: RuntimeWarning: scipy.linalg.solve\n",
      "Ill-conditioned matrix detected. Result is not guaranteed to be accurate.\n",
      "Reciprocal condition number/precision: 2.526859199901175e-24 / 1.1102230246251565e-16\n",
      "  RuntimeWarning)\n",
      "/usr/local/lib/python3.5/dist-packages/scipy/linalg/basic.py:40: RuntimeWarning: scipy.linalg.solve\n",
      "Ill-conditioned matrix detected. Result is not guaranteed to be accurate.\n",
      "Reciprocal condition number/precision: 9.020741069795362e-24 / 1.1102230246251565e-16\n",
      "  RuntimeWarning)\n",
      "/usr/local/lib/python3.5/dist-packages/scipy/linalg/basic.py:40: RuntimeWarning: scipy.linalg.solve\n",
      "Ill-conditioned matrix detected. Result is not guaranteed to be accurate.\n",
      "Reciprocal condition number/precision: 2.5002788768441134e-23 / 1.1102230246251565e-16\n",
      "  RuntimeWarning)\n",
      "/usr/local/lib/python3.5/dist-packages/scipy/linalg/basic.py:40: RuntimeWarning: scipy.linalg.solve\n",
      "Ill-conditioned matrix detected. Result is not guaranteed to be accurate.\n",
      "Reciprocal condition number/precision: 2.5013525945240868e-23 / 1.1102230246251565e-16\n",
      "  RuntimeWarning)\n",
      "/usr/local/lib/python3.5/dist-packages/scipy/linalg/basic.py:40: RuntimeWarning: scipy.linalg.solve\n",
      "Ill-conditioned matrix detected. Result is not guaranteed to be accurate.\n",
      "Reciprocal condition number/precision: 2.506850044486574e-23 / 1.1102230246251565e-16\n",
      "  RuntimeWarning)\n",
      "/usr/local/lib/python3.5/dist-packages/scipy/linalg/basic.py:40: RuntimeWarning: scipy.linalg.solve\n",
      "Ill-conditioned matrix detected. Result is not guaranteed to be accurate.\n",
      "Reciprocal condition number/precision: 2.5055856744833068e-23 / 1.1102230246251565e-16\n",
      "  RuntimeWarning)\n"
     ]
    },
    {
     "name": "stderr",
     "output_type": "stream",
     "text": [
      "/usr/local/lib/python3.5/dist-packages/scipy/linalg/basic.py:40: RuntimeWarning: scipy.linalg.solve\n",
      "Ill-conditioned matrix detected. Result is not guaranteed to be accurate.\n",
      "Reciprocal condition number/precision: 8.903270493629525e-22 / 1.1102230246251565e-16\n",
      "  RuntimeWarning)\n",
      "/usr/local/lib/python3.5/dist-packages/scipy/linalg/basic.py:40: RuntimeWarning: scipy.linalg.solve\n",
      "Ill-conditioned matrix detected. Result is not guaranteed to be accurate.\n",
      "Reciprocal condition number/precision: 8.887703305636136e-22 / 1.1102230246251565e-16\n",
      "  RuntimeWarning)\n",
      "/usr/local/lib/python3.5/dist-packages/scipy/linalg/basic.py:40: RuntimeWarning: scipy.linalg.solve\n",
      "Ill-conditioned matrix detected. Result is not guaranteed to be accurate.\n",
      "Reciprocal condition number/precision: 8.88424669582502e-22 / 1.1102230246251565e-16\n",
      "  RuntimeWarning)\n",
      "/usr/local/lib/python3.5/dist-packages/scipy/linalg/basic.py:40: RuntimeWarning: scipy.linalg.solve\n",
      "Ill-conditioned matrix detected. Result is not guaranteed to be accurate.\n",
      "Reciprocal condition number/precision: 8.896766238280826e-22 / 1.1102230246251565e-16\n",
      "  RuntimeWarning)\n",
      "/usr/local/lib/python3.5/dist-packages/scipy/linalg/basic.py:40: RuntimeWarning: scipy.linalg.solve\n",
      "Ill-conditioned matrix detected. Result is not guaranteed to be accurate.\n",
      "Reciprocal condition number/precision: 8.894198440237909e-22 / 1.1102230246251565e-16\n",
      "  RuntimeWarning)\n",
      "/usr/local/lib/python3.5/dist-packages/scipy/linalg/basic.py:40: RuntimeWarning: scipy.linalg.solve\n",
      "Ill-conditioned matrix detected. Result is not guaranteed to be accurate.\n",
      "Reciprocal condition number/precision: 8.070744220113652e-21 / 1.1102230246251565e-16\n",
      "  RuntimeWarning)\n",
      "/usr/local/lib/python3.5/dist-packages/scipy/linalg/basic.py:40: RuntimeWarning: scipy.linalg.solve\n",
      "Ill-conditioned matrix detected. Result is not guaranteed to be accurate.\n",
      "Reciprocal condition number/precision: 8.076681398685434e-21 / 1.1102230246251565e-16\n",
      "  RuntimeWarning)\n",
      "/usr/local/lib/python3.5/dist-packages/scipy/linalg/basic.py:40: RuntimeWarning: scipy.linalg.solve\n",
      "Ill-conditioned matrix detected. Result is not guaranteed to be accurate.\n",
      "Reciprocal condition number/precision: 8.065109492044416e-21 / 1.1102230246251565e-16\n",
      "  RuntimeWarning)\n",
      "/usr/local/lib/python3.5/dist-packages/scipy/linalg/basic.py:40: RuntimeWarning: scipy.linalg.solve\n",
      "Ill-conditioned matrix detected. Result is not guaranteed to be accurate.\n",
      "Reciprocal condition number/precision: 8.081699265477355e-21 / 1.1102230246251565e-16\n",
      "  RuntimeWarning)\n",
      "/usr/local/lib/python3.5/dist-packages/scipy/linalg/basic.py:40: RuntimeWarning: scipy.linalg.solve\n",
      "Ill-conditioned matrix detected. Result is not guaranteed to be accurate.\n",
      "Reciprocal condition number/precision: 4.605106377618483e-21 / 1.1102230246251565e-16\n",
      "  RuntimeWarning)\n",
      "/usr/local/lib/python3.5/dist-packages/scipy/linalg/basic.py:40: RuntimeWarning: scipy.linalg.solve\n",
      "Ill-conditioned matrix detected. Result is not guaranteed to be accurate.\n",
      "Reciprocal condition number/precision: 1.5217609896172766e-20 / 1.1102230246251565e-16\n",
      "  RuntimeWarning)\n",
      "/usr/local/lib/python3.5/dist-packages/scipy/linalg/basic.py:40: RuntimeWarning: scipy.linalg.solve\n",
      "Ill-conditioned matrix detected. Result is not guaranteed to be accurate.\n",
      "Reciprocal condition number/precision: 1.517424936576041e-20 / 1.1102230246251565e-16\n",
      "  RuntimeWarning)\n",
      "/usr/local/lib/python3.5/dist-packages/scipy/linalg/basic.py:40: RuntimeWarning: scipy.linalg.solve\n",
      "Ill-conditioned matrix detected. Result is not guaranteed to be accurate.\n",
      "Reciprocal condition number/precision: 1.5196816860127757e-20 / 1.1102230246251565e-16\n",
      "  RuntimeWarning)\n",
      "/usr/local/lib/python3.5/dist-packages/scipy/linalg/basic.py:40: RuntimeWarning: scipy.linalg.solve\n",
      "Ill-conditioned matrix detected. Result is not guaranteed to be accurate.\n",
      "Reciprocal condition number/precision: 1.5166298315073395e-20 / 1.1102230246251565e-16\n",
      "  RuntimeWarning)\n",
      "/usr/local/lib/python3.5/dist-packages/scipy/linalg/basic.py:40: RuntimeWarning: scipy.linalg.solve\n",
      "Ill-conditioned matrix detected. Result is not guaranteed to be accurate.\n",
      "Reciprocal condition number/precision: 1.5194893910600027e-20 / 1.1102230246251565e-16\n",
      "  RuntimeWarning)\n",
      "/usr/local/lib/python3.5/dist-packages/scipy/linalg/basic.py:40: RuntimeWarning: scipy.linalg.solve\n",
      "Ill-conditioned matrix detected. Result is not guaranteed to be accurate.\n",
      "Reciprocal condition number/precision: 2.918189659114618e-20 / 1.1102230246251565e-16\n",
      "  RuntimeWarning)\n",
      "/usr/local/lib/python3.5/dist-packages/scipy/linalg/basic.py:40: RuntimeWarning: scipy.linalg.solve\n",
      "Ill-conditioned matrix detected. Result is not guaranteed to be accurate.\n",
      "Reciprocal condition number/precision: 2.911607266534731e-20 / 1.1102230246251565e-16\n",
      "  RuntimeWarning)\n",
      "/usr/local/lib/python3.5/dist-packages/scipy/linalg/basic.py:40: RuntimeWarning: scipy.linalg.solve\n",
      "Ill-conditioned matrix detected. Result is not guaranteed to be accurate.\n",
      "Reciprocal condition number/precision: 2.913572289967711e-20 / 1.1102230246251565e-16\n",
      "  RuntimeWarning)\n",
      "/usr/local/lib/python3.5/dist-packages/scipy/linalg/basic.py:40: RuntimeWarning: scipy.linalg.solve\n",
      "Ill-conditioned matrix detected. Result is not guaranteed to be accurate.\n",
      "Reciprocal condition number/precision: 2.939393403810232e-20 / 1.1102230246251565e-16\n",
      "  RuntimeWarning)\n",
      "/usr/local/lib/python3.5/dist-packages/scipy/linalg/basic.py:40: RuntimeWarning: scipy.linalg.solve\n",
      "Ill-conditioned matrix detected. Result is not guaranteed to be accurate.\n",
      "Reciprocal condition number/precision: 2.911335756924254e-20 / 1.1102230246251565e-16\n",
      "  RuntimeWarning)\n",
      "/usr/local/lib/python3.5/dist-packages/scipy/linalg/basic.py:40: RuntimeWarning: scipy.linalg.solve\n",
      "Ill-conditioned matrix detected. Result is not guaranteed to be accurate.\n",
      "Reciprocal condition number/precision: 7.173157224156039e-22 / 1.1102230246251565e-16\n",
      "  RuntimeWarning)\n"
     ]
    }
   ],
   "source": [
    "alpha = [1e-15, 1e-10, 1e-8, 1e-4, 1e-3,1e-2, 1, 5, 10, 20]\n",
    "parameters = {'alpha': [1e-15, 1e-10, 1e-8, 1e-4, 1e-3,1e-2, 1, 5, 10, 20]}\n",
    "\n",
    "ridge = RidgeClassifier()\n",
    "m4 = GridSearchCV(ridge, parameters, cv = 5)\n",
    "\n",
    "m4.fit(X_train2, y_train2)\n",
    "\n",
    "pred_m4 = m4.predict(X_test2)"
   ]
  },
  {
   "cell_type": "code",
   "execution_count": 26,
   "metadata": {},
   "outputs": [
    {
     "name": "stderr",
     "output_type": "stream",
     "text": [
      "/usr/local/lib/python3.5/dist-packages/sklearn/metrics/classification.py:1437: UndefinedMetricWarning: Precision and F-score are ill-defined and being set to 0.0 in labels with no predicted samples.\n",
      "  'precision', 'predicted', average, warn_for)\n"
     ]
    },
    {
     "name": "stdout",
     "output_type": "stream",
     "text": [
      "              precision    recall  f1-score   support\n",
      "\n",
      "           0       1.00      1.00      1.00     24881\n",
      "           1       0.00      0.00      0.00        18\n",
      "\n",
      "    accuracy                           1.00     24899\n",
      "   macro avg       0.50      0.50      0.50     24899\n",
      "weighted avg       1.00      1.00      1.00     24899\n",
      "\n",
      "This accuracy measure of 0.9992770794007791 doesn't mean much here, but look to the confusion matrix\n"
     ]
    },
    {
     "data": {
      "image/png": "[encoded data removed]",
      "text/plain": [
       "<matplotlib.figure.Figure at 0x7f67324d0400>"
      ]
     },
     "metadata": {},
     "output_type": "display_data"
    },
    {
     "name": "stdout",
     "output_type": "stream",
     "text": [
      "{'alpha': 1}\n"
     ]
    }
   ],
   "source": [
    "m4_acc = accuracy_score(y_test2, pred_m4)\n",
    "\n",
    "print(metrics.classification_report(y_test2, pred_m4))\n",
    "print(\"This accuracy measure of {} doesn't mean much here, but look to the confusion matrix\".format(m4_acc))\n",
    "\n",
    "m4_cm = confusion_matrix(y_test2, pred_m4)\n",
    "plt.figure()\n",
    "plot_confusion_matrix(m4_cm, title ='Confusion matrix', classes = [\"non-failure\",\"failure\"])\n",
    "plt.show()"
   ]
  },
  {
   "cell_type": "markdown",
   "metadata": {},
   "source": [
    "<font size=\"3\"><b>Ridge Regression with Hyperparameter search (with SMOTE) using One-Hot Encodings 'devices'</b></font>"
   ]
  },
  {
   "cell_type": "code",
   "execution_count": 27,
   "metadata": {
    "collapsed": true
   },
   "outputs": [
    {
     "name": "stderr",
     "output_type": "stream",
     "text": [
      "/usr/local/lib/python3.5/dist-packages/scipy/linalg/basic.py:40: RuntimeWarning: scipy.linalg.solve\n",
      "Ill-conditioned matrix detected. Result is not guaranteed to be accurate.\n",
      "Reciprocal condition number/precision: 1.2890588918105794e-36 / 1.1102230246251565e-16\n",
      "  RuntimeWarning)\n",
      "/usr/local/lib/python3.5/dist-packages/scipy/linalg/basic.py:40: RuntimeWarning: scipy.linalg.solve\n",
      "Ill-conditioned matrix detected. Result is not guaranteed to be accurate.\n",
      "Reciprocal condition number/precision: 1.2872086521645302e-36 / 1.1102230246251565e-16\n",
      "  RuntimeWarning)\n",
      "/usr/local/lib/python3.5/dist-packages/scipy/linalg/basic.py:40: RuntimeWarning: scipy.linalg.solve\n",
      "Ill-conditioned matrix detected. Result is not guaranteed to be accurate.\n",
      "Reciprocal condition number/precision: 1.2895647780820957e-36 / 1.1102230246251565e-16\n",
      "  RuntimeWarning)\n",
      "/usr/local/lib/python3.5/dist-packages/scipy/linalg/basic.py:40: RuntimeWarning: scipy.linalg.solve\n",
      "Ill-conditioned matrix detected. Result is not guaranteed to be accurate.\n",
      "Reciprocal condition number/precision: 1.288503439030146e-36 / 1.1102230246251565e-16\n",
      "  RuntimeWarning)\n",
      "/usr/local/lib/python3.5/dist-packages/scipy/linalg/basic.py:40: RuntimeWarning: scipy.linalg.solve\n",
      "Ill-conditioned matrix detected. Result is not guaranteed to be accurate.\n",
      "Reciprocal condition number/precision: 1.2900034636588938e-36 / 1.1102230246251565e-16\n",
      "  RuntimeWarning)\n",
      "/usr/local/lib/python3.5/dist-packages/scipy/linalg/basic.py:40: RuntimeWarning: scipy.linalg.solve\n",
      "Ill-conditioned matrix detected. Result is not guaranteed to be accurate.\n",
      "Reciprocal condition number/precision: 1.2890588918105798e-31 / 1.1102230246251565e-16\n",
      "  RuntimeWarning)\n",
      "/usr/local/lib/python3.5/dist-packages/scipy/linalg/basic.py:40: RuntimeWarning: scipy.linalg.solve\n",
      "Ill-conditioned matrix detected. Result is not guaranteed to be accurate.\n",
      "Reciprocal condition number/precision: 1.2872086521645305e-31 / 1.1102230246251565e-16\n",
      "  RuntimeWarning)\n",
      "/usr/local/lib/python3.5/dist-packages/scipy/linalg/basic.py:40: RuntimeWarning: scipy.linalg.solve\n",
      "Ill-conditioned matrix detected. Result is not guaranteed to be accurate.\n",
      "Reciprocal condition number/precision: 1.2895647780820962e-31 / 1.1102230246251565e-16\n",
      "  RuntimeWarning)\n",
      "/usr/local/lib/python3.5/dist-packages/scipy/linalg/basic.py:40: RuntimeWarning: scipy.linalg.solve\n",
      "Ill-conditioned matrix detected. Result is not guaranteed to be accurate.\n",
      "Reciprocal condition number/precision: 1.2885034390301462e-31 / 1.1102230246251565e-16\n",
      "  RuntimeWarning)\n",
      "/usr/local/lib/python3.5/dist-packages/scipy/linalg/basic.py:40: RuntimeWarning: scipy.linalg.solve\n",
      "Ill-conditioned matrix detected. Result is not guaranteed to be accurate.\n",
      "Reciprocal condition number/precision: 1.2900034636588943e-31 / 1.1102230246251565e-16\n",
      "  RuntimeWarning)\n",
      "/usr/local/lib/python3.5/dist-packages/scipy/linalg/basic.py:40: RuntimeWarning: scipy.linalg.solve\n",
      "Ill-conditioned matrix detected. Result is not guaranteed to be accurate.\n",
      "Reciprocal condition number/precision: 1.2890588918105795e-29 / 1.1102230246251565e-16\n",
      "  RuntimeWarning)\n",
      "/usr/local/lib/python3.5/dist-packages/scipy/linalg/basic.py:40: RuntimeWarning: scipy.linalg.solve\n",
      "Ill-conditioned matrix detected. Result is not guaranteed to be accurate.\n",
      "Reciprocal condition number/precision: 1.2872086521645303e-29 / 1.1102230246251565e-16\n",
      "  RuntimeWarning)\n",
      "/usr/local/lib/python3.5/dist-packages/scipy/linalg/basic.py:40: RuntimeWarning: scipy.linalg.solve\n",
      "Ill-conditioned matrix detected. Result is not guaranteed to be accurate.\n",
      "Reciprocal condition number/precision: 1.289564778082096e-29 / 1.1102230246251565e-16\n",
      "  RuntimeWarning)\n",
      "/usr/local/lib/python3.5/dist-packages/scipy/linalg/basic.py:40: RuntimeWarning: scipy.linalg.solve\n",
      "Ill-conditioned matrix detected. Result is not guaranteed to be accurate.\n",
      "Reciprocal condition number/precision: 1.288503439030146e-29 / 1.1102230246251565e-16\n",
      "  RuntimeWarning)\n",
      "/usr/local/lib/python3.5/dist-packages/scipy/linalg/basic.py:40: RuntimeWarning: scipy.linalg.solve\n",
      "Ill-conditioned matrix detected. Result is not guaranteed to be accurate.\n",
      "Reciprocal condition number/precision: 1.290003463658894e-29 / 1.1102230246251565e-16\n",
      "  RuntimeWarning)\n",
      "/usr/local/lib/python3.5/dist-packages/scipy/linalg/basic.py:40: RuntimeWarning: scipy.linalg.solve\n",
      "Ill-conditioned matrix detected. Result is not guaranteed to be accurate.\n",
      "Reciprocal condition number/precision: 1.2890588918105795e-25 / 1.1102230246251565e-16\n",
      "  RuntimeWarning)\n",
      "/usr/local/lib/python3.5/dist-packages/scipy/linalg/basic.py:40: RuntimeWarning: scipy.linalg.solve\n",
      "Ill-conditioned matrix detected. Result is not guaranteed to be accurate.\n",
      "Reciprocal condition number/precision: 1.2872086521645303e-25 / 1.1102230246251565e-16\n",
      "  RuntimeWarning)\n",
      "/usr/local/lib/python3.5/dist-packages/scipy/linalg/basic.py:40: RuntimeWarning: scipy.linalg.solve\n",
      "Ill-conditioned matrix detected. Result is not guaranteed to be accurate.\n",
      "Reciprocal condition number/precision: 1.289564778082096e-25 / 1.1102230246251565e-16\n",
      "  RuntimeWarning)\n",
      "/usr/local/lib/python3.5/dist-packages/scipy/linalg/basic.py:40: RuntimeWarning: scipy.linalg.solve\n",
      "Ill-conditioned matrix detected. Result is not guaranteed to be accurate.\n",
      "Reciprocal condition number/precision: 1.2885034390301462e-25 / 1.1102230246251565e-16\n",
      "  RuntimeWarning)\n",
      "/usr/local/lib/python3.5/dist-packages/scipy/linalg/basic.py:40: RuntimeWarning: scipy.linalg.solve\n",
      "Ill-conditioned matrix detected. Result is not guaranteed to be accurate.\n",
      "Reciprocal condition number/precision: 1.290003463658894e-25 / 1.1102230246251565e-16\n",
      "  RuntimeWarning)\n",
      "/usr/local/lib/python3.5/dist-packages/scipy/linalg/basic.py:40: RuntimeWarning: scipy.linalg.solve\n",
      "Ill-conditioned matrix detected. Result is not guaranteed to be accurate.\n",
      "Reciprocal condition number/precision: 1.2890588918105793e-24 / 1.1102230246251565e-16\n",
      "  RuntimeWarning)\n",
      "/usr/local/lib/python3.5/dist-packages/scipy/linalg/basic.py:40: RuntimeWarning: scipy.linalg.solve\n",
      "Ill-conditioned matrix detected. Result is not guaranteed to be accurate.\n",
      "Reciprocal condition number/precision: 1.28720865216453e-24 / 1.1102230246251565e-16\n",
      "  RuntimeWarning)\n",
      "/usr/local/lib/python3.5/dist-packages/scipy/linalg/basic.py:40: RuntimeWarning: scipy.linalg.solve\n",
      "Ill-conditioned matrix detected. Result is not guaranteed to be accurate.\n",
      "Reciprocal condition number/precision: 1.2895647780820956e-24 / 1.1102230246251565e-16\n",
      "  RuntimeWarning)\n",
      "/usr/local/lib/python3.5/dist-packages/scipy/linalg/basic.py:40: RuntimeWarning: scipy.linalg.solve\n",
      "Ill-conditioned matrix detected. Result is not guaranteed to be accurate.\n",
      "Reciprocal condition number/precision: 1.2885034390301458e-24 / 1.1102230246251565e-16\n",
      "  RuntimeWarning)\n",
      "/usr/local/lib/python3.5/dist-packages/scipy/linalg/basic.py:40: RuntimeWarning: scipy.linalg.solve\n",
      "Ill-conditioned matrix detected. Result is not guaranteed to be accurate.\n",
      "Reciprocal condition number/precision: 1.2900034636588937e-24 / 1.1102230246251565e-16\n",
      "  RuntimeWarning)\n",
      "/usr/local/lib/python3.5/dist-packages/scipy/linalg/basic.py:40: RuntimeWarning: scipy.linalg.solve\n",
      "Ill-conditioned matrix detected. Result is not guaranteed to be accurate.\n",
      "Reciprocal condition number/precision: 1.2890588918105796e-23 / 1.1102230246251565e-16\n",
      "  RuntimeWarning)\n",
      "/usr/local/lib/python3.5/dist-packages/scipy/linalg/basic.py:40: RuntimeWarning: scipy.linalg.solve\n",
      "Ill-conditioned matrix detected. Result is not guaranteed to be accurate.\n",
      "Reciprocal condition number/precision: 1.2872086521645303e-23 / 1.1102230246251565e-16\n",
      "  RuntimeWarning)\n",
      "/usr/local/lib/python3.5/dist-packages/scipy/linalg/basic.py:40: RuntimeWarning: scipy.linalg.solve\n",
      "Ill-conditioned matrix detected. Result is not guaranteed to be accurate.\n",
      "Reciprocal condition number/precision: 1.289564778082096e-23 / 1.1102230246251565e-16\n",
      "  RuntimeWarning)\n",
      "/usr/local/lib/python3.5/dist-packages/scipy/linalg/basic.py:40: RuntimeWarning: scipy.linalg.solve\n",
      "Ill-conditioned matrix detected. Result is not guaranteed to be accurate.\n",
      "Reciprocal condition number/precision: 1.2885034390301461e-23 / 1.1102230246251565e-16\n",
      "  RuntimeWarning)\n",
      "/usr/local/lib/python3.5/dist-packages/scipy/linalg/basic.py:40: RuntimeWarning: scipy.linalg.solve\n",
      "Ill-conditioned matrix detected. Result is not guaranteed to be accurate.\n",
      "Reciprocal condition number/precision: 1.290003463658894e-23 / 1.1102230246251565e-16\n",
      "  RuntimeWarning)\n"
     ]
    },
    {
     "name": "stderr",
     "output_type": "stream",
     "text": [
      "/usr/local/lib/python3.5/dist-packages/scipy/linalg/basic.py:40: RuntimeWarning: scipy.linalg.solve\n",
      "Ill-conditioned matrix detected. Result is not guaranteed to be accurate.\n",
      "Reciprocal condition number/precision: 1.2890588918105795e-21 / 1.1102230246251565e-16\n",
      "  RuntimeWarning)\n",
      "/usr/local/lib/python3.5/dist-packages/scipy/linalg/basic.py:40: RuntimeWarning: scipy.linalg.solve\n",
      "Ill-conditioned matrix detected. Result is not guaranteed to be accurate.\n",
      "Reciprocal condition number/precision: 1.2872086521645303e-21 / 1.1102230246251565e-16\n",
      "  RuntimeWarning)\n",
      "/usr/local/lib/python3.5/dist-packages/scipy/linalg/basic.py:40: RuntimeWarning: scipy.linalg.solve\n",
      "Ill-conditioned matrix detected. Result is not guaranteed to be accurate.\n",
      "Reciprocal condition number/precision: 1.289564778082096e-21 / 1.1102230246251565e-16\n",
      "  RuntimeWarning)\n",
      "/usr/local/lib/python3.5/dist-packages/scipy/linalg/basic.py:40: RuntimeWarning: scipy.linalg.solve\n",
      "Ill-conditioned matrix detected. Result is not guaranteed to be accurate.\n",
      "Reciprocal condition number/precision: 1.2885034390301462e-21 / 1.1102230246251565e-16\n",
      "  RuntimeWarning)\n",
      "/usr/local/lib/python3.5/dist-packages/scipy/linalg/basic.py:40: RuntimeWarning: scipy.linalg.solve\n",
      "Ill-conditioned matrix detected. Result is not guaranteed to be accurate.\n",
      "Reciprocal condition number/precision: 1.290003463658894e-21 / 1.1102230246251565e-16\n",
      "  RuntimeWarning)\n",
      "/usr/local/lib/python3.5/dist-packages/scipy/linalg/basic.py:40: RuntimeWarning: scipy.linalg.solve\n",
      "Ill-conditioned matrix detected. Result is not guaranteed to be accurate.\n",
      "Reciprocal condition number/precision: 4.633946857053638e-21 / 1.1102230246251565e-16\n",
      "  RuntimeWarning)\n",
      "/usr/local/lib/python3.5/dist-packages/scipy/linalg/basic.py:40: RuntimeWarning: scipy.linalg.solve\n",
      "Ill-conditioned matrix detected. Result is not guaranteed to be accurate.\n",
      "Reciprocal condition number/precision: 4.599209832955405e-21 / 1.1102230246251565e-16\n",
      "  RuntimeWarning)\n",
      "/usr/local/lib/python3.5/dist-packages/scipy/linalg/basic.py:40: RuntimeWarning: scipy.linalg.solve\n",
      "Ill-conditioned matrix detected. Result is not guaranteed to be accurate.\n",
      "Reciprocal condition number/precision: 4.625092342536138e-21 / 1.1102230246251565e-16\n",
      "  RuntimeWarning)\n",
      "/usr/local/lib/python3.5/dist-packages/scipy/linalg/basic.py:40: RuntimeWarning: scipy.linalg.solve\n",
      "Ill-conditioned matrix detected. Result is not guaranteed to be accurate.\n",
      "Reciprocal condition number/precision: 4.675258540122637e-21 / 1.1102230246251565e-16\n",
      "  RuntimeWarning)\n",
      "/usr/local/lib/python3.5/dist-packages/scipy/linalg/basic.py:40: RuntimeWarning: scipy.linalg.solve\n",
      "Ill-conditioned matrix detected. Result is not guaranteed to be accurate.\n",
      "Reciprocal condition number/precision: 4.620709893879308e-21 / 1.1102230246251565e-16\n",
      "  RuntimeWarning)\n",
      "/usr/local/lib/python3.5/dist-packages/scipy/linalg/basic.py:40: RuntimeWarning: scipy.linalg.solve\n",
      "Ill-conditioned matrix detected. Result is not guaranteed to be accurate.\n",
      "Reciprocal condition number/precision: 9.517854763937546e-21 / 1.1102230246251565e-16\n",
      "  RuntimeWarning)\n",
      "/usr/local/lib/python3.5/dist-packages/scipy/linalg/basic.py:40: RuntimeWarning: scipy.linalg.solve\n",
      "Ill-conditioned matrix detected. Result is not guaranteed to be accurate.\n",
      "Reciprocal condition number/precision: 9.430425278898e-21 / 1.1102230246251565e-16\n",
      "  RuntimeWarning)\n",
      "/usr/local/lib/python3.5/dist-packages/scipy/linalg/basic.py:40: RuntimeWarning: scipy.linalg.solve\n",
      "Ill-conditioned matrix detected. Result is not guaranteed to be accurate.\n",
      "Reciprocal condition number/precision: 9.472860701605847e-21 / 1.1102230246251565e-16\n",
      "  RuntimeWarning)\n",
      "/usr/local/lib/python3.5/dist-packages/scipy/linalg/basic.py:40: RuntimeWarning: scipy.linalg.solve\n",
      "Ill-conditioned matrix detected. Result is not guaranteed to be accurate.\n",
      "Reciprocal condition number/precision: 9.611662686620188e-21 / 1.1102230246251565e-16\n",
      "  RuntimeWarning)\n",
      "/usr/local/lib/python3.5/dist-packages/scipy/linalg/basic.py:40: RuntimeWarning: scipy.linalg.solve\n",
      "Ill-conditioned matrix detected. Result is not guaranteed to be accurate.\n",
      "Reciprocal condition number/precision: 9.487850981711499e-21 / 1.1102230246251565e-16\n",
      "  RuntimeWarning)\n",
      "/usr/local/lib/python3.5/dist-packages/scipy/linalg/basic.py:40: RuntimeWarning: scipy.linalg.solve\n",
      "Ill-conditioned matrix detected. Result is not guaranteed to be accurate.\n",
      "Reciprocal condition number/precision: 1.9796492378442167e-20 / 1.1102230246251565e-16\n",
      "  RuntimeWarning)\n",
      "/usr/local/lib/python3.5/dist-packages/scipy/linalg/basic.py:40: RuntimeWarning: scipy.linalg.solve\n",
      "Ill-conditioned matrix detected. Result is not guaranteed to be accurate.\n",
      "Reciprocal condition number/precision: 1.958620486101986e-20 / 1.1102230246251565e-16\n",
      "  RuntimeWarning)\n",
      "/usr/local/lib/python3.5/dist-packages/scipy/linalg/basic.py:40: RuntimeWarning: scipy.linalg.solve\n",
      "Ill-conditioned matrix detected. Result is not guaranteed to be accurate.\n",
      "Reciprocal condition number/precision: 1.9652648752228542e-20 / 1.1102230246251565e-16\n",
      "  RuntimeWarning)\n",
      "/usr/local/lib/python3.5/dist-packages/scipy/linalg/basic.py:40: RuntimeWarning: scipy.linalg.solve\n",
      "Ill-conditioned matrix detected. Result is not guaranteed to be accurate.\n",
      "Reciprocal condition number/precision: 2.0025380757646722e-20 / 1.1102230246251565e-16\n",
      "  RuntimeWarning)\n",
      "/usr/local/lib/python3.5/dist-packages/scipy/linalg/basic.py:40: RuntimeWarning: scipy.linalg.solve\n",
      "Ill-conditioned matrix detected. Result is not guaranteed to be accurate.\n",
      "Reciprocal condition number/precision: 1.973755397807948e-20 / 1.1102230246251565e-16\n",
      "  RuntimeWarning)\n",
      "/usr/local/lib/python3.5/dist-packages/scipy/linalg/basic.py:40: RuntimeWarning: scipy.linalg.solve\n",
      "Ill-conditioned matrix detected. Result is not guaranteed to be accurate.\n",
      "Reciprocal condition number/precision: 7.853843638136321e-22 / 1.1102230246251565e-16\n",
      "  RuntimeWarning)\n"
     ]
    }
   ],
   "source": [
    "alpha = [1e-15, 1e-10, 1e-8, 1e-4, 1e-3,1e-2, 1, 5, 10, 20]\n",
    "parameters = {'alpha': [1e-15, 1e-10, 1e-8, 1e-4, 1e-3,1e-2, 1, 5, 10, 20]}\n",
    "\n",
    "ridge = RidgeClassifier()\n",
    "m4_1 = GridSearchCV(ridge, parameters, cv=5)\n",
    "\n",
    "m4_1.fit(X_train_smote2, y_train_smote2)\n",
    "\n",
    "pred_m4_1 = m4_1.predict(X_test2)"
   ]
  },
  {
   "cell_type": "code",
   "execution_count": 28,
   "metadata": {},
   "outputs": [
    {
     "name": "stdout",
     "output_type": "stream",
     "text": [
      "              precision    recall  f1-score   support\n",
      "\n",
      "           0       1.00      1.00      1.00     24881\n",
      "           1       0.00      0.00      0.00        18\n",
      "\n",
      "    accuracy                           1.00     24899\n",
      "   macro avg       0.50      0.50      0.50     24899\n",
      "weighted avg       1.00      1.00      1.00     24899\n",
      "\n",
      "This accuracy measure of 0.9992770794007791 doesn't mean much here, but look to the confusion matrix\n"
     ]
    },
    {
     "data": {
      "image/png": "[encoded data removed]",
      "text/plain": [
       "<matplotlib.figure.Figure at 0x7f67323b4438>"
      ]
     },
     "metadata": {},
     "output_type": "display_data"
    },
    {
     "name": "stdout",
     "output_type": "stream",
     "text": [
      "{'alpha': 1}\n"
     ]
    }
   ],
   "source": [
    "m4_1_acc = accuracy_score(y_test2, pred_m4_1)\n",
    "\n",
    "print(metrics.classification_report(y_test2, pred_m4_1))\n",
    "print(\"This accuracy measure of {} doesn't mean much here, but look to the confusion matrix\".format(m4_acc))\n",
    "\n",
    "m4_1_cm = confusion_matrix(y_test2, pred_m4_1)\n",
    "plt.figure()\n",
    "plot_confusion_matrix(m4_1_cm, title ='Confusion matrix', classes = [\"non-failure\",\"failure\"])\n",
    "plt.show()"
   ]
  },
  {
   "cell_type": "markdown",
   "metadata": {},
   "source": [
    "<font size=\"3\"><b>Ridge Regression (without Hyperparameter search) (with SMOTE) using One-Hot Encodings 'devices'</b></font>"
   ]
  },
  {
   "cell_type": "code",
   "execution_count": 29,
   "metadata": {},
   "outputs": [
    {
     "name": "stderr",
     "output_type": "stream",
     "text": [
      "/usr/local/lib/python3.5/dist-packages/scipy/linalg/basic.py:40: RuntimeWarning: scipy.linalg.solve\n",
      "Ill-conditioned matrix detected. Result is not guaranteed to be accurate.\n",
      "Reciprocal condition number/precision: 7.853843638136321e-22 / 1.1102230246251565e-16\n",
      "  RuntimeWarning)\n"
     ]
    },
    {
     "name": "stdout",
     "output_type": "stream",
     "text": [
      "              precision    recall  f1-score   support\n",
      "\n",
      "           0       1.00      1.00      1.00     24881\n",
      "           1       0.00      0.00      0.00        18\n",
      "\n",
      "    accuracy                           1.00     24899\n",
      "   macro avg       0.50      0.50      0.50     24899\n",
      "weighted avg       1.00      1.00      1.00     24899\n",
      "\n",
      "This accuracy measure of 0.9991565926342424 doesn't mean much here, but look to the confusion matrix\n"
     ]
    },
    {
     "data": {
      "image/png": "[encoded data removed]",
      "text/plain": [
       "<matplotlib.figure.Figure at 0x7f6732363e80>"
      ]
     },
     "metadata": {},
     "output_type": "display_data"
    }
   ],
   "source": [
    "m5 = RidgeClassifier(random_state = 1234)\n",
    "m5.fit(X_train_smote2, y_train_smote2)\n",
    "pred_m5 = m5.predict(X_test2)\n",
    "\n",
    "m5_acc = accuracy_score(y_test2, pred_m5)\n",
    "\n",
    "print(metrics.classification_report(y_test2, pred_m5))\n",
    "print(\"This accuracy measure of {} doesn't mean much here, but look to the confusion matrix\".format(m5_acc))\n",
    "\n",
    "m5_cm = confusion_matrix(y_test2, pred_m5)\n",
    "plt.figure()\n",
    "plot_confusion_matrix(m5_cm, title ='Confusion matrix', classes = [\"non-failure\",\"failure\"])\n",
    "plt.show()"
   ]
  },
  {
   "cell_type": "markdown",
   "metadata": {},
   "source": [
    "## <font size=\"3\"><b>Using H2O.ai for Isolation Forests (requries further tuning)</b></font>"
   ]
  },
  {
   "cell_type": "code",
   "execution_count": null,
   "metadata": {},
   "outputs": [],
   "source": [
    "#Call H2o.ai API\n",
    "h2o.init()"
   ]
  },
  {
   "cell_type": "code",
   "execution_count": 26,
   "metadata": {},
   "outputs": [
    {
     "name": "stdout",
     "output_type": "stream",
     "text": [
      "Parse progress: |█████████████████████████████████████████████████████████| 100%\n",
      "Parse progress: |█████████████████████████████████████████████████████████| 100%\n"
     ]
    }
   ],
   "source": [
    "h_train = pd.concat([X_train, y_train], axis=1)\n",
    "h_test = pd.concat([X_test, y_test], axis=1)\n",
    "h_train = h2o.H2OFrame(h_train)\n",
    "h_test = h2o.H2OFrame(h_test)\n",
    "\n",
    "h_columns = ['attribute1','attribute2','attribute3','attribute4',\n",
    "             'attribute5','attribute6','attribute7','attribute9']"
   ]
  },
  {
   "cell_type": "code",
   "execution_count": 27,
   "metadata": {},
   "outputs": [
    {
     "name": "stdout",
     "output_type": "stream",
     "text": [
      "isolationforest Model Build progress: |███████████████████████████████████| 100%\n",
      "m4 trained\n",
      "isolationforest prediction progress: |████████████████████████████████████| 100%\n"
     ]
    }
   ],
   "source": [
    "# Build an Isolation forest model\n",
    "m6 = H2OIsolationForestEstimator(ntrees = 200, sample_rate = 0.01, max_depth = 20)\n",
    "m6.train(x = h_columns, training_frame = h_train)\n",
    "print(\"m4 trained\")\n",
    "# Calculate score\n",
    "m6_pred = m6.predict(h_test)"
   ]
  },
  {
   "cell_type": "code",
   "execution_count": 28,
   "metadata": {},
   "outputs": [
    {
     "data": {
      "text/html": [
       "<table>\n",
       "<thead>\n",
       "<tr><th style=\"text-align: right;\">  Probs</th><th style=\"text-align: right;\">  predictQuantiles</th><th style=\"text-align: right;\">  mean_lengthQuantiles</th></tr>\n",
       "</thead>\n",
       "<tbody>\n",
       "<tr><td style=\"text-align: right;\">   0.95</td><td style=\"text-align: right;\">          0.523364</td><td style=\"text-align: right;\">                15.775</td></tr>\n",
       "</tbody>\n",
       "</table>"
      ]
     },
     "metadata": {},
     "output_type": "display_data"
    },
    {
     "name": "stdout",
     "output_type": "stream",
     "text": [
      "\n"
     ]
    },
    {
     "data": {
      "text/html": [
       "<table>\n",
       "<thead>\n",
       "<tr><th style=\"text-align: right;\">  predict</th><th style=\"text-align: right;\">  mean_length</th><th style=\"text-align: right;\">  predicted</th><th style=\"text-align: right;\">  actuals</th></tr>\n",
       "</thead>\n",
       "<tbody>\n",
       "<tr><td style=\"text-align: right;\">0.36486  </td><td style=\"text-align: right;\">       11.415</td><td style=\"text-align: right;\">          0</td><td style=\"text-align: right;\">        0</td></tr>\n",
       "<tr><td style=\"text-align: right;\">0.170841 </td><td style=\"text-align: right;\">       14.01 </td><td style=\"text-align: right;\">          0</td><td style=\"text-align: right;\">        0</td></tr>\n",
       "<tr><td style=\"text-align: right;\">0.344299 </td><td style=\"text-align: right;\">       11.69 </td><td style=\"text-align: right;\">          0</td><td style=\"text-align: right;\">        0</td></tr>\n",
       "<tr><td style=\"text-align: right;\">0.16     </td><td style=\"text-align: right;\">       14.155</td><td style=\"text-align: right;\">          0</td><td style=\"text-align: right;\">        0</td></tr>\n",
       "<tr><td style=\"text-align: right;\">0.17757  </td><td style=\"text-align: right;\">       13.92 </td><td style=\"text-align: right;\">          0</td><td style=\"text-align: right;\">        0</td></tr>\n",
       "<tr><td style=\"text-align: right;\">0.225421 </td><td style=\"text-align: right;\">       13.28 </td><td style=\"text-align: right;\">          0</td><td style=\"text-align: right;\">        0</td></tr>\n",
       "<tr><td style=\"text-align: right;\">0.209346 </td><td style=\"text-align: right;\">       13.495</td><td style=\"text-align: right;\">          0</td><td style=\"text-align: right;\">        0</td></tr>\n",
       "<tr><td style=\"text-align: right;\">0.109533 </td><td style=\"text-align: right;\">       14.83 </td><td style=\"text-align: right;\">          0</td><td style=\"text-align: right;\">        0</td></tr>\n",
       "<tr><td style=\"text-align: right;\">0.0414953</td><td style=\"text-align: right;\">       15.74 </td><td style=\"text-align: right;\">          0</td><td style=\"text-align: right;\">        0</td></tr>\n",
       "<tr><td style=\"text-align: right;\">0.0657944</td><td style=\"text-align: right;\">       15.415</td><td style=\"text-align: right;\">          0</td><td style=\"text-align: right;\">        0</td></tr>\n",
       "</tbody>\n",
       "</table>"
      ]
     },
     "metadata": {},
     "output_type": "display_data"
    },
    {
     "name": "stdout",
     "output_type": "stream",
     "text": [
      "\n"
     ]
    }
   ],
   "source": [
    "quantile = 0.95\n",
    "quantile_frame = m6_pred.quantile([quantile])\n",
    "print(quantile_frame)\n",
    "\n",
    "threshold = quantile_frame[0, \"predictQuantiles\"]\n",
    "m6_pred[\"predicted\"] = m6_pred[\"predict\"] > threshold\n",
    "m6_pred[\"actuals\"] = h_test[\"failure\"]\n",
    "print(m6_pred.head()) #mean_length showing the ave # of splits across all trees to isolate the observation."
   ]
  },
  {
   "cell_type": "markdown",
   "metadata": {},
   "source": [
    "## <font size=\"3\"><b>LSTM Autoencoder</b></font>"
   ]
  },
  {
   "cell_type": "code",
   "execution_count": 30,
   "metadata": {},
   "outputs": [
    {
     "name": "stdout",
     "output_type": "stream",
     "text": [
      "Index(['attribute1', 'attribute2', 'attribute3', 'attribute4', 'attribute5',\n",
      "       'attribute6', 'attribute7', 'attribute9', 'date_delta'],\n",
      "      dtype='object')\n"
     ]
    }
   ],
   "source": [
    "#Initialize data for LSTM Autoencoder using only the 8 selected attributes and date_delta variable\n",
    "\n",
    "input_X = X.loc[:, X.columns].values  # converts the df to a numpy array\n",
    "input_y = df['failure'].values\n",
    "\n",
    "n_features = input_X.shape[1]  # number of features\n",
    "print(X.columns)"
   ]
  },
  {
   "cell_type": "code",
   "execution_count": 31,
   "metadata": {},
   "outputs": [],
   "source": [
    "def temporalize(X, y, past_obs):\n",
    "    X = []\n",
    "    y = []\n",
    "    for i in range(len(input_X)-past_obs-1):\n",
    "        t = []\n",
    "        for j in range(1,past_obs+1):\n",
    "            # Gather past records upto the past_obs period\n",
    "            t.append(input_X[[(i+j+1)], :])\n",
    "        X.append(t)\n",
    "        y.append(input_y[i+past_obs+1])\n",
    "    return X, y"
   ]
  },
  {
   "cell_type": "code",
   "execution_count": 32,
   "metadata": {},
   "outputs": [],
   "source": [
    "# Past_obs should correspond to some time interval for dates, hours, minutes, seconds\n",
    "# The collected data does not have equal intervals, so we will look at the past 20 observations\n",
    "\n",
    "past_obs = 20\n",
    "\n",
    "X, y = temporalize(X = input_X, y = input_y, past_obs = 20)"
   ]
  },
  {
   "cell_type": "code",
   "execution_count": 33,
   "metadata": {},
   "outputs": [
    {
     "name": "stdout",
     "output_type": "stream",
     "text": [
      "(79662, 20, 1, 9)\n",
      "(79587, 20, 1, 9)\n"
     ]
    }
   ],
   "source": [
    "# Some more data splitting, specific to the LSTM Encoder\n",
    "\n",
    "data_split = 0.2\n",
    "\n",
    "X_train3, X_test3, y_train3, y_test3 = train_test_split(np.array(X), np.array(y), test_size = data_split, random_state = 1234)\n",
    "X_train3, X_valid3, y_train3, y_valid3 = train_test_split(X_train3, y_train3, test_size = data_split, random_state = 1234)\n",
    "\n",
    "print(X_train3.shape)\n",
    "\n",
    "X_train_y0 = X_train3[y_train3 == 0]\n",
    "X_train_y1 = X_train3[y_train3 == 1]\n",
    "\n",
    "X_valid_y0 = X_valid3[y_valid3 == 0]\n",
    "X_valid_y1 = X_valid3[y_valid3 == 1]\n",
    "\n",
    "print(X_train_y0.shape)"
   ]
  },
  {
   "cell_type": "code",
   "execution_count": 34,
   "metadata": {},
   "outputs": [],
   "source": [
    "#Shaping 4D tensors to 3D tensors\n",
    "\n",
    "X_train3 = X_train3.reshape(X_train3.shape[0], past_obs, n_features)\n",
    "X_train_y0 = X_train_y0.reshape(X_train_y0.shape[0], past_obs, n_features)\n",
    "X_train_y1 = X_train_y1.reshape(X_train_y1.shape[0], past_obs, n_features)\n",
    "\n",
    "X_test3 = X_test3.reshape(X_test3.shape[0], past_obs, n_features)\n",
    "\n",
    "X_valid3 = X_valid3.reshape(X_valid3.shape[0], past_obs, n_features)\n",
    "X_valid_y0 = X_valid_y0.reshape(X_valid_y0.shape[0], past_obs, n_features)\n",
    "X_valid_y1 = X_valid_y1.reshape(X_valid_y1.shape[0], past_obs, n_features)"
   ]
  },
  {
   "cell_type": "code",
   "execution_count": 36,
   "metadata": {},
   "outputs": [],
   "source": [
    "#Function flattens 3D to 2D array of shape\n",
    "def flatten(X):\n",
    "    flat_X = np.empty((X.shape[0], X.shape[2]))  # sample x features array.\n",
    "    for i in range(X.shape[0]):\n",
    "        flat_X[i] = X[i, (X.shape[1]-1), :]\n",
    "    return(flat_X)\n",
    "\n",
    "#Function to standardize the data / standardize the training and test individually to better control for data leakage\n",
    "def standardize(X, scaler):\n",
    "    for i in range(X.shape[0]):\n",
    "        X[i, :, :] = scaler.transform(X[i, :, :])      \n",
    "    return X"
   ]
  },
  {
   "cell_type": "code",
   "execution_count": 37,
   "metadata": {},
   "outputs": [],
   "source": [
    "# Create the the scaler \n",
    "scaler = StandardScaler().fit(flatten(X_train_y0))\n",
    "\n",
    "#Standardize training, validation set, and testset individually to better control for data leakage\n",
    "X_train_y0_scaled = standardize(X_train_y0, scaler)\n",
    "X_train_y1_scaled = standardize(X_train_y1, scaler)\n",
    "X_train_scaled = standardize(X_train3, scaler)"
   ]
  },
  {
   "cell_type": "code",
   "execution_count": 44,
   "metadata": {},
   "outputs": [
    {
     "name": "stdout",
     "output_type": "stream",
     "text": [
      "[-0.00103032  0.05838893  0.04324827  0.0558257   0.21017252  0.01299207\n",
      "  0.03529471  0.04515813 -0.06179401]\n",
      "[0.42293233 0.91461755 0.93672509 0.91011053 0.61082142 0.52559546\n",
      " 0.95605887 0.92263437 0.48869912]\n"
     ]
    }
   ],
   "source": [
    "#Testing to see if the mean and variances are between 0 and 1\n",
    "test_flatten = flatten(X_train_y0_scaled)\n",
    "print(np.mean(test_flatten, axis = 0))\n",
    "print(np.var(test_flatten, axis = 0))"
   ]
  },
  {
   "cell_type": "code",
   "execution_count": 45,
   "metadata": {},
   "outputs": [],
   "source": [
    "X_valid_scaled = standardize(X_valid3, scaler)\n",
    "X_valid_y0_scaled = standardize(X_valid_y0, scaler)\n",
    "X_test_scaled = standardize(X_test3, scaler)"
   ]
  },
  {
   "cell_type": "code",
   "execution_count": 49,
   "metadata": {},
   "outputs": [
    {
     "name": "stdout",
     "output_type": "stream",
     "text": [
      "_________________________________________________________________\n",
      "Layer (type)                 Output Shape              Param #   \n",
      "=================================================================\n",
      "lstm_9 (LSTM)                (None, 20, 20)            2400      \n",
      "_________________________________________________________________\n",
      "lstm_10 (LSTM)               (None, 20, 9)             1080      \n",
      "_________________________________________________________________\n",
      "lstm_11 (LSTM)               (None, 1)                 44        \n",
      "_________________________________________________________________\n",
      "repeat_vector_2 (RepeatVecto (None, 20, 1)             0         \n",
      "_________________________________________________________________\n",
      "lstm_12 (LSTM)               (None, 20, 20)            1760      \n",
      "_________________________________________________________________\n",
      "lstm_13 (LSTM)               (None, 20, 9)             1080      \n",
      "_________________________________________________________________\n",
      "time_distributed_2 (TimeDist (None, 20, 9)             90        \n",
      "=================================================================\n",
      "Total params: 6,454\n",
      "Trainable params: 6,454\n",
      "Non-trainable params: 0\n",
      "_________________________________________________________________\n"
     ]
    }
   ],
   "source": [
    "#Building the LSTM Autoencoder\n",
    "\n",
    "time_steps = X_train_y0_scaled.shape[1] \n",
    "n_features = X_train_y0_scaled.shape[2]\n",
    "\n",
    "epochs = 500\n",
    "batchsize = 64\n",
    "learning_rate = 0.01\n",
    "\n",
    "lstm_autoencoder = Sequential()\n",
    "\n",
    "# Encoder\n",
    "lstm_autoencoder.add(LSTM(time_steps, activation = 'relu', input_shape = (time_steps, n_features), return_sequences = True))\n",
    "lstm_autoencoder.add(LSTM(9, activation = 'relu', return_sequences = True))\n",
    "lstm_autoencoder.add(LSTM(1, activation = 'relu'))\n",
    "lstm_autoencoder.add(RepeatVector(time_steps))\n",
    "\n",
    "# Decoder\n",
    "lstm_autoencoder.add(LSTM(time_steps, activation = 'relu', return_sequences = True))\n",
    "lstm_autoencoder.add(LSTM(9, activation = 'relu', return_sequences = True))\n",
    "lstm_autoencoder.add(TimeDistributed(Dense(n_features)))\n",
    "\n",
    "lstm_autoencoder.summary()"
   ]
  },
  {
   "cell_type": "code",
   "execution_count": null,
   "metadata": {},
   "outputs": [
    {
     "name": "stdout",
     "output_type": "stream",
     "text": [
      "Train on 79587 samples, validate on 19900 samples\n",
      "Epoch 1/500\n",
      " - 228s - loss: 0.7671 - val_loss: 0.7667\n",
      "Epoch 2/500\n",
      " - 223s - loss: 122.5476 - val_loss: 0.7682\n",
      "Epoch 3/500\n"
     ]
    }
   ],
   "source": [
    "# Using a Tesla V100 to run this model - so the training time is not hardware-related, requires further research.\n",
    "adam = optimizers.Adam(learning_rate)\n",
    "lstm_autoencoder.compile(loss = 'mse', optimizer = adam)\n",
    "\n",
    "lstm_autoencoder_history = lstm_autoencoder.fit(X_train_y0_scaled, X_train_y0_scaled, epochs = epochs, batch_size = batchsize, \n",
    "                                                validation_data = (X_valid_y0_scaled, X_valid_y0_scaled),\n",
    "                                                verbose = 2).history"
   ]
  },
  {
   "cell_type": "code",
   "execution_count": null,
   "metadata": {
    "collapsed": true
   },
   "outputs": [],
   "source": [
    "# m1 = SVC(kernel='linear', class_weight='balanced', probability=True)\n",
    "# m1.fit(X_train, y_train)  \n",
    "# y_pred = m1.predict(X_test) #Use for confusion matrix\n",
    "# y_pred_train = m1.predict(X_train) #Use for training confusion matrix\n",
    "# y_pred_p = m1.predict_proba(X_test) \n",
    "# y_pred_p = [p[1] for p in y_pred_p] \n",
    " \n",
    "# #Find metrics and AUROC\n",
    "# print(classification_report(y_test,y_pred)) \n",
    "# print(confusion_matrix(y_train,y_pred_train))  \n",
    "# print(confusion_matrix(y_test,y_pred))  \n",
    "# print(roc_auc_score(y_test, y_pred_p))"
   ]
  },
  {
   "cell_type": "markdown",
   "metadata": {},
   "source": [
    "## Best Model"
   ]
  },
  {
   "cell_type": "code",
   "execution_count": 27,
   "metadata": {},
   "outputs": [
    {
     "name": "stdout",
     "output_type": "stream",
     "text": [
      "Best Model: Logistic Regression (without SMOTE) using One-Hot Encodings 'devices'\n",
      "\n",
      "Using a standard Logistic Regression Model predicted 44% of the failures in the testset\n",
      "However it had an overwelming number of FP.\n"
     ]
    },
    {
     "data": {
      "image/png": "[encoded data removed]",
      "text/plain": [
       "<Figure size 432x288 with 2 Axes>"
      ]
     },
     "metadata": {
      "needs_background": "light"
     },
     "output_type": "display_data"
    }
   ],
   "source": [
    "print(\"Best Model: Logistic Regression (without SMOTE) using One-Hot Encodings 'devices'\")\n",
    "print(\"\")\n",
    "print(\"Using a standard Logistic Regression Model predicted 44% of the failures in the testset\")\n",
    "print(\"However it had an overwelming number of FP.\")\n",
    "plt.figure()\n",
    "plot_confusion_matrix(m3_cm, title ='Confusion matrix', classes = [\"non-failure\",\"failure\"])\n",
    "plt.show()"
   ]
  },
  {
   "cell_type": "markdown",
   "metadata": {},
   "source": [
    "## Recommendations or Next Steps\n",
    "<p>\n",
    "<font size=\"3\"><b>High-level Summary:</b> </font>\n",
    "<ul><font size=\"2\">\n",
    "<li> Continue exploring attribute and device behavior before exploring predictive modeling techniques (individual device failure probabilities, relationships between devices, assumed measurement (attributes 1, 5, and 6) and recorded codes (remaining attributes). </li>\n",
    "<li>Sampling for Time Series: The next series of models must be tested using non-randomized time series moving windows for the training and holdout set. See picture below for time series strategies. </li>\n",
    "<li>Determine a better KPI: For each model, calculate KPI (TP/(TP+FN+FP) for a range of threshold to output 1s for the computed probabilities. Select the threshold and parameters for the best KPI for each model (objective to better minimize False Positives and maximize True Positives. Pick the model with the best KPI </li>\n",
    "<li>Unknown devices: Determine what system, subsystem(s), devices, and measurements (attributes 1-9) are and what they are recording. </li>\n",
    "<li>Generalize models: Optimize model generalization by using cross-system / subsystem machine learning resampling or splitting. Predictive models used on this training and test dataset should are assumed to consist of all data that make up of a single manufacture's system. The ability of the algorithms applied on this dataset could be effective across a range of systems if it has similar specifications and applications. </li>\n",
    "<li>Try other using other model types: Support Vector Classifier with H2o.GPU (a simple SVC was ran on a Tesla P100 and was found computationally inefficient), Long Short Term Memory (LSTM), Autoencoder Neural Networks, or Survival Modeling. </li>\n",
    "</ul></font>  "
   ]
  },
  {
   "cell_type": "code",
   "execution_count": 28,
   "metadata": {},
   "outputs": [
    {
     "data": {
      "text/html": [
       "<img src=\"https://i.ibb.co/qdsScdC/Time-Series-Splitting.png\" width=\"700\" height=\"700\"/>"
      ],
      "text/plain": [
       "<IPython.core.display.Image object>"
      ]
     },
     "execution_count": 28,
     "metadata": {},
     "output_type": "execute_result"
    }
   ],
   "source": [
    "from IPython.display import Image\n",
    "from IPython.core.display import HTML \n",
    "Image(url=\"https://i.ibb.co/qdsScdC/Time-Series-Splitting.png\", width=700, height=700)"
   ]
  },
  {
   "cell_type": "code",
   "execution_count": null,
   "metadata": {
    "collapsed": true
   },
   "outputs": [],
   "source": []
  }
 ],
 "metadata": {
  "anaconda-cloud": {},
  "kernelspec": {
   "display_name": "Python 3",
   "language": "python",
   "name": "python3"
  },
  "language_info": {
   "codemirror_mode": {
    "name": "ipython",
    "version": 3
   },
   "file_extension": ".py",
   "mimetype": "text/x-python",
   "name": "python",
   "nbconvert_exporter": "python",
   "pygments_lexer": "ipython3",
   "version": "3.6.8"
  }
 },
 "nbformat": 4,
 "nbformat_minor": 2
}
